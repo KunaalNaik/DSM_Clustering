{
 "cells": [
  {
   "cell_type": "markdown",
   "id": "a2ffd7e3",
   "metadata": {
    "papermill": {
     "duration": 0.0064,
     "end_time": "2022-11-05T04:20:14.330068",
     "exception": false,
     "start_time": "2022-11-05T04:20:14.323668",
     "status": "completed"
    },
    "tags": []
   },
   "source": [
    "# Import Libraries"
   ]
  },
  {
   "cell_type": "code",
   "execution_count": 1,
   "id": "2c9dc196",
   "metadata": {
    "_cell_guid": "b1076dfc-b9ad-4769-8c92-a6c4dae69d19",
    "_uuid": "8f2839f25d086af736a60e9eeb907d3b93b6e0e5",
    "execution": {
     "iopub.execute_input": "2022-11-05T04:20:14.343999Z",
     "iopub.status.busy": "2022-11-05T04:20:14.343540Z",
     "iopub.status.idle": "2022-11-05T04:20:15.477002Z",
     "shell.execute_reply": "2022-11-05T04:20:15.475523Z"
    },
    "papermill": {
     "duration": 1.144332,
     "end_time": "2022-11-05T04:20:15.479878",
     "exception": false,
     "start_time": "2022-11-05T04:20:14.335546",
     "status": "completed"
    },
    "tags": []
   },
   "outputs": [],
   "source": [
    "import pandas as pd\n",
    "import numpy as np\n",
    "import seaborn as sns\n",
    "import matplotlib.pyplot as plt\n",
    "%matplotlib inline"
   ]
  },
  {
   "cell_type": "markdown",
   "id": "fbc33ad8",
   "metadata": {
    "papermill": {
     "duration": 0.004914,
     "end_time": "2022-11-05T04:20:15.490254",
     "exception": false,
     "start_time": "2022-11-05T04:20:15.485340",
     "status": "completed"
    },
    "tags": []
   },
   "source": [
    "# Import Data & Rename Columns"
   ]
  },
  {
   "cell_type": "code",
   "execution_count": 2,
   "id": "fcc89a43",
   "metadata": {
    "_cell_guid": "79c7e3d0-c299-4dcb-8224-4455121ee9b0",
    "_uuid": "d629ff2d2480ee46fbb7e2d37f6b5fab8052498a",
    "execution": {
     "iopub.execute_input": "2022-11-05T04:20:15.503556Z",
     "iopub.status.busy": "2022-11-05T04:20:15.502679Z",
     "iopub.status.idle": "2022-11-05T04:20:15.514865Z",
     "shell.execute_reply": "2022-11-05T04:20:15.513610Z"
    },
    "papermill": {
     "duration": 0.021765,
     "end_time": "2022-11-05T04:20:15.517581",
     "exception": false,
     "start_time": "2022-11-05T04:20:15.495816",
     "status": "completed"
    },
    "tags": []
   },
   "outputs": [
    {
     "name": "stdout",
     "output_type": "stream",
     "text": [
      "/kaggle/input/customer-segmentation-tutorial-in-python/Mall_Customers.csv\n"
     ]
    }
   ],
   "source": [
    "import os\n",
    "for dirname, _, filenames in os.walk('/kaggle/input'):\n",
    "    for filename in filenames:\n",
    "        print(os.path.join(dirname, filename))"
   ]
  },
  {
   "cell_type": "code",
   "execution_count": 3,
   "id": "5e459c0c",
   "metadata": {
    "execution": {
     "iopub.execute_input": "2022-11-05T04:20:15.530328Z",
     "iopub.status.busy": "2022-11-05T04:20:15.529909Z",
     "iopub.status.idle": "2022-11-05T04:20:15.561704Z",
     "shell.execute_reply": "2022-11-05T04:20:15.560529Z"
    },
    "papermill": {
     "duration": 0.041383,
     "end_time": "2022-11-05T04:20:15.564414",
     "exception": false,
     "start_time": "2022-11-05T04:20:15.523031",
     "status": "completed"
    },
    "tags": []
   },
   "outputs": [
    {
     "data": {
      "text/html": [
       "<div>\n",
       "<style scoped>\n",
       "    .dataframe tbody tr th:only-of-type {\n",
       "        vertical-align: middle;\n",
       "    }\n",
       "\n",
       "    .dataframe tbody tr th {\n",
       "        vertical-align: top;\n",
       "    }\n",
       "\n",
       "    .dataframe thead th {\n",
       "        text-align: right;\n",
       "    }\n",
       "</style>\n",
       "<table border=\"1\" class=\"dataframe\">\n",
       "  <thead>\n",
       "    <tr style=\"text-align: right;\">\n",
       "      <th></th>\n",
       "      <th>CustomerID</th>\n",
       "      <th>Gender</th>\n",
       "      <th>Age</th>\n",
       "      <th>Annual Income (k$)</th>\n",
       "      <th>Spending Score (1-100)</th>\n",
       "    </tr>\n",
       "  </thead>\n",
       "  <tbody>\n",
       "    <tr>\n",
       "      <th>0</th>\n",
       "      <td>1</td>\n",
       "      <td>Male</td>\n",
       "      <td>19</td>\n",
       "      <td>15</td>\n",
       "      <td>39</td>\n",
       "    </tr>\n",
       "    <tr>\n",
       "      <th>1</th>\n",
       "      <td>2</td>\n",
       "      <td>Male</td>\n",
       "      <td>21</td>\n",
       "      <td>15</td>\n",
       "      <td>81</td>\n",
       "    </tr>\n",
       "    <tr>\n",
       "      <th>2</th>\n",
       "      <td>3</td>\n",
       "      <td>Female</td>\n",
       "      <td>20</td>\n",
       "      <td>16</td>\n",
       "      <td>6</td>\n",
       "    </tr>\n",
       "    <tr>\n",
       "      <th>3</th>\n",
       "      <td>4</td>\n",
       "      <td>Female</td>\n",
       "      <td>23</td>\n",
       "      <td>16</td>\n",
       "      <td>77</td>\n",
       "    </tr>\n",
       "    <tr>\n",
       "      <th>4</th>\n",
       "      <td>5</td>\n",
       "      <td>Female</td>\n",
       "      <td>31</td>\n",
       "      <td>17</td>\n",
       "      <td>40</td>\n",
       "    </tr>\n",
       "  </tbody>\n",
       "</table>\n",
       "</div>"
      ],
      "text/plain": [
       "   CustomerID  Gender  Age  Annual Income (k$)  Spending Score (1-100)\n",
       "0           1    Male   19                  15                      39\n",
       "1           2    Male   21                  15                      81\n",
       "2           3  Female   20                  16                       6\n",
       "3           4  Female   23                  16                      77\n",
       "4           5  Female   31                  17                      40"
      ]
     },
     "execution_count": 3,
     "metadata": {},
     "output_type": "execute_result"
    }
   ],
   "source": [
    "df = pd.read_csv('/kaggle/input/customer-segmentation-tutorial-in-python/Mall_Customers.csv')\n",
    "df.head()"
   ]
  },
  {
   "cell_type": "code",
   "execution_count": 4,
   "id": "f42fa0a9",
   "metadata": {
    "execution": {
     "iopub.execute_input": "2022-11-05T04:20:15.577645Z",
     "iopub.status.busy": "2022-11-05T04:20:15.577221Z",
     "iopub.status.idle": "2022-11-05T04:20:15.592440Z",
     "shell.execute_reply": "2022-11-05T04:20:15.591353Z"
    },
    "papermill": {
     "duration": 0.02444,
     "end_time": "2022-11-05T04:20:15.594796",
     "exception": false,
     "start_time": "2022-11-05T04:20:15.570356",
     "status": "completed"
    },
    "tags": []
   },
   "outputs": [
    {
     "data": {
      "text/html": [
       "<div>\n",
       "<style scoped>\n",
       "    .dataframe tbody tr th:only-of-type {\n",
       "        vertical-align: middle;\n",
       "    }\n",
       "\n",
       "    .dataframe tbody tr th {\n",
       "        vertical-align: top;\n",
       "    }\n",
       "\n",
       "    .dataframe thead th {\n",
       "        text-align: right;\n",
       "    }\n",
       "</style>\n",
       "<table border=\"1\" class=\"dataframe\">\n",
       "  <thead>\n",
       "    <tr style=\"text-align: right;\">\n",
       "      <th></th>\n",
       "      <th>CustomerID</th>\n",
       "      <th>Gender</th>\n",
       "      <th>Age</th>\n",
       "      <th>Income</th>\n",
       "      <th>Spending_Score</th>\n",
       "    </tr>\n",
       "  </thead>\n",
       "  <tbody>\n",
       "    <tr>\n",
       "      <th>0</th>\n",
       "      <td>1</td>\n",
       "      <td>Male</td>\n",
       "      <td>19</td>\n",
       "      <td>15</td>\n",
       "      <td>39</td>\n",
       "    </tr>\n",
       "    <tr>\n",
       "      <th>1</th>\n",
       "      <td>2</td>\n",
       "      <td>Male</td>\n",
       "      <td>21</td>\n",
       "      <td>15</td>\n",
       "      <td>81</td>\n",
       "    </tr>\n",
       "    <tr>\n",
       "      <th>2</th>\n",
       "      <td>3</td>\n",
       "      <td>Female</td>\n",
       "      <td>20</td>\n",
       "      <td>16</td>\n",
       "      <td>6</td>\n",
       "    </tr>\n",
       "    <tr>\n",
       "      <th>3</th>\n",
       "      <td>4</td>\n",
       "      <td>Female</td>\n",
       "      <td>23</td>\n",
       "      <td>16</td>\n",
       "      <td>77</td>\n",
       "    </tr>\n",
       "    <tr>\n",
       "      <th>4</th>\n",
       "      <td>5</td>\n",
       "      <td>Female</td>\n",
       "      <td>31</td>\n",
       "      <td>17</td>\n",
       "      <td>40</td>\n",
       "    </tr>\n",
       "  </tbody>\n",
       "</table>\n",
       "</div>"
      ],
      "text/plain": [
       "   CustomerID  Gender  Age  Income  Spending_Score\n",
       "0           1    Male   19      15              39\n",
       "1           2    Male   21      15              81\n",
       "2           3  Female   20      16               6\n",
       "3           4  Female   23      16              77\n",
       "4           5  Female   31      17              40"
      ]
     },
     "execution_count": 4,
     "metadata": {},
     "output_type": "execute_result"
    }
   ],
   "source": [
    "df.rename(columns={'Annual Income (k$)' : 'Income', 'Spending Score (1-100)' : 'Spending_Score'}, inplace = True)\n",
    "df.head()"
   ]
  },
  {
   "cell_type": "markdown",
   "id": "ef3c4a4b",
   "metadata": {
    "papermill": {
     "duration": 0.005417,
     "end_time": "2022-11-05T04:20:15.606047",
     "exception": false,
     "start_time": "2022-11-05T04:20:15.600630",
     "status": "completed"
    },
    "tags": []
   },
   "source": [
    "# Check Descriptive Statistics"
   ]
  },
  {
   "cell_type": "code",
   "execution_count": 5,
   "id": "b0f10308",
   "metadata": {
    "execution": {
     "iopub.execute_input": "2022-11-05T04:20:15.619021Z",
     "iopub.status.busy": "2022-11-05T04:20:15.618257Z",
     "iopub.status.idle": "2022-11-05T04:20:15.623623Z",
     "shell.execute_reply": "2022-11-05T04:20:15.622483Z"
    },
    "papermill": {
     "duration": 0.014104,
     "end_time": "2022-11-05T04:20:15.625640",
     "exception": false,
     "start_time": "2022-11-05T04:20:15.611536",
     "status": "completed"
    },
    "tags": []
   },
   "outputs": [],
   "source": [
    "# Write a code to show descriptive analytics\n"
   ]
  },
  {
   "cell_type": "code",
   "execution_count": 6,
   "id": "bd112b16",
   "metadata": {
    "execution": {
     "iopub.execute_input": "2022-11-05T04:20:15.640658Z",
     "iopub.status.busy": "2022-11-05T04:20:15.640229Z",
     "iopub.status.idle": "2022-11-05T04:20:15.644832Z",
     "shell.execute_reply": "2022-11-05T04:20:15.643760Z"
    },
    "papermill": {
     "duration": 0.014295,
     "end_time": "2022-11-05T04:20:15.647108",
     "exception": false,
     "start_time": "2022-11-05T04:20:15.632813",
     "status": "completed"
    },
    "tags": []
   },
   "outputs": [],
   "source": [
    "# Create a pair plot using Age, Income and Spending Score\n"
   ]
  },
  {
   "cell_type": "markdown",
   "id": "6af40b7a",
   "metadata": {
    "papermill": {
     "duration": 0.005667,
     "end_time": "2022-11-05T04:20:15.658564",
     "exception": false,
     "start_time": "2022-11-05T04:20:15.652897",
     "status": "completed"
    },
    "tags": []
   },
   "source": [
    "# Perform K-Mean Clustering with 5 Clusters"
   ]
  },
  {
   "cell_type": "code",
   "execution_count": 7,
   "id": "09a497bc",
   "metadata": {
    "execution": {
     "iopub.execute_input": "2022-11-05T04:20:15.671760Z",
     "iopub.status.busy": "2022-11-05T04:20:15.671150Z",
     "iopub.status.idle": "2022-11-05T04:20:16.089471Z",
     "shell.execute_reply": "2022-11-05T04:20:16.088460Z"
    },
    "papermill": {
     "duration": 0.427741,
     "end_time": "2022-11-05T04:20:16.092015",
     "exception": false,
     "start_time": "2022-11-05T04:20:15.664274",
     "status": "completed"
    },
    "tags": []
   },
   "outputs": [],
   "source": [
    "import sklearn.cluster as cluster"
   ]
  },
  {
   "cell_type": "code",
   "execution_count": 8,
   "id": "42a1d975",
   "metadata": {
    "execution": {
     "iopub.execute_input": "2022-11-05T04:20:16.106214Z",
     "iopub.status.busy": "2022-11-05T04:20:16.105103Z",
     "iopub.status.idle": "2022-11-05T04:20:16.110018Z",
     "shell.execute_reply": "2022-11-05T04:20:16.108967Z"
    },
    "papermill": {
     "duration": 0.01424,
     "end_time": "2022-11-05T04:20:16.112177",
     "exception": false,
     "start_time": "2022-11-05T04:20:16.097937",
     "status": "completed"
    },
    "tags": []
   },
   "outputs": [],
   "source": [
    "# We will use 2 Variables for this example\n",
    "#kmeans = \n",
    "#kmeans = "
   ]
  },
  {
   "cell_type": "code",
   "execution_count": 9,
   "id": "4bc6acd9",
   "metadata": {
    "execution": {
     "iopub.execute_input": "2022-11-05T04:20:16.125400Z",
     "iopub.status.busy": "2022-11-05T04:20:16.125027Z",
     "iopub.status.idle": "2022-11-05T04:20:16.129532Z",
     "shell.execute_reply": "2022-11-05T04:20:16.128568Z"
    },
    "papermill": {
     "duration": 0.013684,
     "end_time": "2022-11-05T04:20:16.131552",
     "exception": false,
     "start_time": "2022-11-05T04:20:16.117868",
     "status": "completed"
    },
    "tags": []
   },
   "outputs": [],
   "source": [
    "#kmeans.cluster_centers_"
   ]
  },
  {
   "cell_type": "markdown",
   "id": "00b885aa",
   "metadata": {
    "papermill": {
     "duration": 0.005287,
     "end_time": "2022-11-05T04:20:16.142404",
     "exception": false,
     "start_time": "2022-11-05T04:20:16.137117",
     "status": "completed"
    },
    "tags": []
   },
   "source": [
    "# Attach Clusters to the Original Data "
   ]
  },
  {
   "cell_type": "code",
   "execution_count": 10,
   "id": "f2d48a9c",
   "metadata": {
    "execution": {
     "iopub.execute_input": "2022-11-05T04:20:16.155310Z",
     "iopub.status.busy": "2022-11-05T04:20:16.154894Z",
     "iopub.status.idle": "2022-11-05T04:20:16.160598Z",
     "shell.execute_reply": "2022-11-05T04:20:16.159516Z"
    },
    "papermill": {
     "duration": 0.01471,
     "end_time": "2022-11-05T04:20:16.162775",
     "exception": false,
     "start_time": "2022-11-05T04:20:16.148065",
     "status": "completed"
    },
    "tags": []
   },
   "outputs": [],
   "source": [
    "#df['Clusters'] = kmeans.labels_"
   ]
  },
  {
   "cell_type": "code",
   "execution_count": 11,
   "id": "52c9c653",
   "metadata": {
    "execution": {
     "iopub.execute_input": "2022-11-05T04:20:16.176160Z",
     "iopub.status.busy": "2022-11-05T04:20:16.175562Z",
     "iopub.status.idle": "2022-11-05T04:20:16.179172Z",
     "shell.execute_reply": "2022-11-05T04:20:16.178419Z"
    },
    "papermill": {
     "duration": 0.012672,
     "end_time": "2022-11-05T04:20:16.181224",
     "exception": false,
     "start_time": "2022-11-05T04:20:16.168552",
     "status": "completed"
    },
    "tags": []
   },
   "outputs": [],
   "source": [
    "#df.head()"
   ]
  },
  {
   "cell_type": "code",
   "execution_count": 12,
   "id": "8d6a87f4",
   "metadata": {
    "execution": {
     "iopub.execute_input": "2022-11-05T04:20:16.194367Z",
     "iopub.status.busy": "2022-11-05T04:20:16.193922Z",
     "iopub.status.idle": "2022-11-05T04:20:16.197976Z",
     "shell.execute_reply": "2022-11-05T04:20:16.197208Z"
    },
    "papermill": {
     "duration": 0.012994,
     "end_time": "2022-11-05T04:20:16.200036",
     "exception": false,
     "start_time": "2022-11-05T04:20:16.187042",
     "status": "completed"
    },
    "tags": []
   },
   "outputs": [],
   "source": [
    "#df['Clusters'].value_counts()"
   ]
  },
  {
   "cell_type": "markdown",
   "id": "836c8bb7",
   "metadata": {
    "papermill": {
     "duration": 0.005263,
     "end_time": "2022-11-05T04:20:16.211005",
     "exception": false,
     "start_time": "2022-11-05T04:20:16.205742",
     "status": "completed"
    },
    "tags": []
   },
   "source": [
    "# Export Data with Clusters"
   ]
  },
  {
   "cell_type": "code",
   "execution_count": 13,
   "id": "66544ce5",
   "metadata": {
    "execution": {
     "iopub.execute_input": "2022-11-05T04:20:16.224068Z",
     "iopub.status.busy": "2022-11-05T04:20:16.223439Z",
     "iopub.status.idle": "2022-11-05T04:20:16.227002Z",
     "shell.execute_reply": "2022-11-05T04:20:16.226302Z"
    },
    "papermill": {
     "duration": 0.01265,
     "end_time": "2022-11-05T04:20:16.229115",
     "exception": false,
     "start_time": "2022-11-05T04:20:16.216465",
     "status": "completed"
    },
    "tags": []
   },
   "outputs": [],
   "source": [
    "#df.to_csv('mallClusters.csv', index = False)"
   ]
  },
  {
   "cell_type": "markdown",
   "id": "be6e7bda",
   "metadata": {
    "papermill": {
     "duration": 0.005488,
     "end_time": "2022-11-05T04:20:16.240425",
     "exception": false,
     "start_time": "2022-11-05T04:20:16.234937",
     "status": "completed"
    },
    "tags": []
   },
   "source": [
    "# Plot Cluster on Chart "
   ]
  },
  {
   "cell_type": "code",
   "execution_count": 14,
   "id": "96d44ff7",
   "metadata": {
    "execution": {
     "iopub.execute_input": "2022-11-05T04:20:16.253627Z",
     "iopub.status.busy": "2022-11-05T04:20:16.253008Z",
     "iopub.status.idle": "2022-11-05T04:20:16.256628Z",
     "shell.execute_reply": "2022-11-05T04:20:16.255898Z"
    },
    "papermill": {
     "duration": 0.012624,
     "end_time": "2022-11-05T04:20:16.258683",
     "exception": false,
     "start_time": "2022-11-05T04:20:16.246059",
     "status": "completed"
    },
    "tags": []
   },
   "outputs": [],
   "source": [
    "#sns.scatterplot(x=\"Spending_Score\", y=\"Income\",hue = 'Clusters',  data=df)"
   ]
  },
  {
   "cell_type": "markdown",
   "id": "761da90c",
   "metadata": {
    "papermill": {
     "duration": 0.005432,
     "end_time": "2022-11-05T04:20:16.269708",
     "exception": false,
     "start_time": "2022-11-05T04:20:16.264276",
     "status": "completed"
    },
    "tags": []
   },
   "source": [
    "### Next: Create Elbow Plot and Silhoutte Score"
   ]
  },
  {
   "cell_type": "markdown",
   "id": "ea798c79",
   "metadata": {
    "papermill": {
     "duration": 0.005271,
     "end_time": "2022-11-05T04:20:16.280550",
     "exception": false,
     "start_time": "2022-11-05T04:20:16.275279",
     "status": "completed"
    },
    "tags": []
   },
   "source": [
    "# END"
   ]
  }
 ],
 "metadata": {
  "kernelspec": {
   "display_name": "Python 3",
   "language": "python",
   "name": "python3"
  },
  "language_info": {
   "codemirror_mode": {
    "name": "ipython",
    "version": 3
   },
   "file_extension": ".py",
   "mimetype": "text/x-python",
   "name": "python",
   "nbconvert_exporter": "python",
   "pygments_lexer": "ipython3",
   "version": "3.7.12"
  },
  "papermill": {
   "default_parameters": {},
   "duration": 11.275624,
   "end_time": "2022-11-05T04:20:17.008094",
   "environment_variables": {},
   "exception": null,
   "input_path": "__notebook__.ipynb",
   "output_path": "__notebook__.ipynb",
   "parameters": {},
   "start_time": "2022-11-05T04:20:05.732470",
   "version": "2.3.4"
  }
 },
 "nbformat": 4,
 "nbformat_minor": 5
}
