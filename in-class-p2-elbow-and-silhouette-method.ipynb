{
 "cells": [
  {
   "cell_type": "markdown",
   "id": "d5029f4f",
   "metadata": {
    "papermill": {
     "duration": 0.008406,
     "end_time": "2022-11-05T04:21:41.536090",
     "exception": false,
     "start_time": "2022-11-05T04:21:41.527684",
     "status": "completed"
    },
    "tags": []
   },
   "source": [
    "# How to choose the right cluster number?"
   ]
  },
  {
   "cell_type": "markdown",
   "id": "392a2d62",
   "metadata": {
    "papermill": {
     "duration": 0.006523,
     "end_time": "2022-11-05T04:21:41.549455",
     "exception": false,
     "start_time": "2022-11-05T04:21:41.542932",
     "status": "completed"
    },
    "tags": []
   },
   "source": [
    "# Import Libraries"
   ]
  },
  {
   "cell_type": "code",
   "execution_count": 1,
   "id": "5d1d8fca",
   "metadata": {
    "_cell_guid": "b1076dfc-b9ad-4769-8c92-a6c4dae69d19",
    "_uuid": "8f2839f25d086af736a60e9eeb907d3b93b6e0e5",
    "execution": {
     "iopub.execute_input": "2022-11-05T04:21:41.565392Z",
     "iopub.status.busy": "2022-11-05T04:21:41.564348Z",
     "iopub.status.idle": "2022-11-05T04:21:42.819460Z",
     "shell.execute_reply": "2022-11-05T04:21:42.818217Z"
    },
    "papermill": {
     "duration": 1.26622,
     "end_time": "2022-11-05T04:21:42.822402",
     "exception": false,
     "start_time": "2022-11-05T04:21:41.556182",
     "status": "completed"
    },
    "tags": []
   },
   "outputs": [],
   "source": [
    "import pandas as pd\n",
    "import numpy as np\n",
    "import seaborn as sns\n",
    "import matplotlib.pyplot as plt\n",
    "%matplotlib inline"
   ]
  },
  {
   "cell_type": "markdown",
   "id": "0c2d35de",
   "metadata": {
    "papermill": {
     "duration": 0.006506,
     "end_time": "2022-11-05T04:21:42.835555",
     "exception": false,
     "start_time": "2022-11-05T04:21:42.829049",
     "status": "completed"
    },
    "tags": []
   },
   "source": [
    "# Import Data & Rename Columns"
   ]
  },
  {
   "cell_type": "code",
   "execution_count": 2,
   "id": "81d513b6",
   "metadata": {
    "_cell_guid": "79c7e3d0-c299-4dcb-8224-4455121ee9b0",
    "_uuid": "d629ff2d2480ee46fbb7e2d37f6b5fab8052498a",
    "execution": {
     "iopub.execute_input": "2022-11-05T04:21:42.850268Z",
     "iopub.status.busy": "2022-11-05T04:21:42.849606Z",
     "iopub.status.idle": "2022-11-05T04:21:42.859984Z",
     "shell.execute_reply": "2022-11-05T04:21:42.858710Z"
    },
    "papermill": {
     "duration": 0.021916,
     "end_time": "2022-11-05T04:21:42.863672",
     "exception": false,
     "start_time": "2022-11-05T04:21:42.841756",
     "status": "completed"
    },
    "tags": []
   },
   "outputs": [
    {
     "name": "stdout",
     "output_type": "stream",
     "text": [
      "/kaggle/input/customer-segmentation-tutorial-in-python/Mall_Customers.csv\n"
     ]
    }
   ],
   "source": [
    "import os\n",
    "for dirname, _, filenames in os.walk('/kaggle/input'):\n",
    "    for filename in filenames:\n",
    "        print(os.path.join(dirname, filename))"
   ]
  },
  {
   "cell_type": "code",
   "execution_count": 3,
   "id": "89813ace",
   "metadata": {
    "execution": {
     "iopub.execute_input": "2022-11-05T04:21:42.877846Z",
     "iopub.status.busy": "2022-11-05T04:21:42.877451Z",
     "iopub.status.idle": "2022-11-05T04:21:42.908710Z",
     "shell.execute_reply": "2022-11-05T04:21:42.907456Z"
    },
    "papermill": {
     "duration": 0.041134,
     "end_time": "2022-11-05T04:21:42.911115",
     "exception": false,
     "start_time": "2022-11-05T04:21:42.869981",
     "status": "completed"
    },
    "tags": []
   },
   "outputs": [
    {
     "data": {
      "text/html": [
       "<div>\n",
       "<style scoped>\n",
       "    .dataframe tbody tr th:only-of-type {\n",
       "        vertical-align: middle;\n",
       "    }\n",
       "\n",
       "    .dataframe tbody tr th {\n",
       "        vertical-align: top;\n",
       "    }\n",
       "\n",
       "    .dataframe thead th {\n",
       "        text-align: right;\n",
       "    }\n",
       "</style>\n",
       "<table border=\"1\" class=\"dataframe\">\n",
       "  <thead>\n",
       "    <tr style=\"text-align: right;\">\n",
       "      <th></th>\n",
       "      <th>CustomerID</th>\n",
       "      <th>Gender</th>\n",
       "      <th>Age</th>\n",
       "      <th>Annual Income (k$)</th>\n",
       "      <th>Spending Score (1-100)</th>\n",
       "    </tr>\n",
       "  </thead>\n",
       "  <tbody>\n",
       "    <tr>\n",
       "      <th>0</th>\n",
       "      <td>1</td>\n",
       "      <td>Male</td>\n",
       "      <td>19</td>\n",
       "      <td>15</td>\n",
       "      <td>39</td>\n",
       "    </tr>\n",
       "    <tr>\n",
       "      <th>1</th>\n",
       "      <td>2</td>\n",
       "      <td>Male</td>\n",
       "      <td>21</td>\n",
       "      <td>15</td>\n",
       "      <td>81</td>\n",
       "    </tr>\n",
       "    <tr>\n",
       "      <th>2</th>\n",
       "      <td>3</td>\n",
       "      <td>Female</td>\n",
       "      <td>20</td>\n",
       "      <td>16</td>\n",
       "      <td>6</td>\n",
       "    </tr>\n",
       "    <tr>\n",
       "      <th>3</th>\n",
       "      <td>4</td>\n",
       "      <td>Female</td>\n",
       "      <td>23</td>\n",
       "      <td>16</td>\n",
       "      <td>77</td>\n",
       "    </tr>\n",
       "    <tr>\n",
       "      <th>4</th>\n",
       "      <td>5</td>\n",
       "      <td>Female</td>\n",
       "      <td>31</td>\n",
       "      <td>17</td>\n",
       "      <td>40</td>\n",
       "    </tr>\n",
       "  </tbody>\n",
       "</table>\n",
       "</div>"
      ],
      "text/plain": [
       "   CustomerID  Gender  Age  Annual Income (k$)  Spending Score (1-100)\n",
       "0           1    Male   19                  15                      39\n",
       "1           2    Male   21                  15                      81\n",
       "2           3  Female   20                  16                       6\n",
       "3           4  Female   23                  16                      77\n",
       "4           5  Female   31                  17                      40"
      ]
     },
     "execution_count": 3,
     "metadata": {},
     "output_type": "execute_result"
    }
   ],
   "source": [
    "df = pd.read_csv('/kaggle/input/customer-segmentation-tutorial-in-python/Mall_Customers.csv')\n",
    "df.head()"
   ]
  },
  {
   "cell_type": "code",
   "execution_count": 4,
   "id": "83756e74",
   "metadata": {
    "execution": {
     "iopub.execute_input": "2022-11-05T04:21:42.926053Z",
     "iopub.status.busy": "2022-11-05T04:21:42.925633Z",
     "iopub.status.idle": "2022-11-05T04:21:42.943299Z",
     "shell.execute_reply": "2022-11-05T04:21:42.941883Z"
    },
    "papermill": {
     "duration": 0.028405,
     "end_time": "2022-11-05T04:21:42.946063",
     "exception": false,
     "start_time": "2022-11-05T04:21:42.917658",
     "status": "completed"
    },
    "tags": []
   },
   "outputs": [
    {
     "data": {
      "text/html": [
       "<div>\n",
       "<style scoped>\n",
       "    .dataframe tbody tr th:only-of-type {\n",
       "        vertical-align: middle;\n",
       "    }\n",
       "\n",
       "    .dataframe tbody tr th {\n",
       "        vertical-align: top;\n",
       "    }\n",
       "\n",
       "    .dataframe thead th {\n",
       "        text-align: right;\n",
       "    }\n",
       "</style>\n",
       "<table border=\"1\" class=\"dataframe\">\n",
       "  <thead>\n",
       "    <tr style=\"text-align: right;\">\n",
       "      <th></th>\n",
       "      <th>CustomerID</th>\n",
       "      <th>Gender</th>\n",
       "      <th>Age</th>\n",
       "      <th>Income</th>\n",
       "      <th>Spending_Score</th>\n",
       "    </tr>\n",
       "  </thead>\n",
       "  <tbody>\n",
       "    <tr>\n",
       "      <th>0</th>\n",
       "      <td>1</td>\n",
       "      <td>Male</td>\n",
       "      <td>19</td>\n",
       "      <td>15</td>\n",
       "      <td>39</td>\n",
       "    </tr>\n",
       "    <tr>\n",
       "      <th>1</th>\n",
       "      <td>2</td>\n",
       "      <td>Male</td>\n",
       "      <td>21</td>\n",
       "      <td>15</td>\n",
       "      <td>81</td>\n",
       "    </tr>\n",
       "    <tr>\n",
       "      <th>2</th>\n",
       "      <td>3</td>\n",
       "      <td>Female</td>\n",
       "      <td>20</td>\n",
       "      <td>16</td>\n",
       "      <td>6</td>\n",
       "    </tr>\n",
       "    <tr>\n",
       "      <th>3</th>\n",
       "      <td>4</td>\n",
       "      <td>Female</td>\n",
       "      <td>23</td>\n",
       "      <td>16</td>\n",
       "      <td>77</td>\n",
       "    </tr>\n",
       "    <tr>\n",
       "      <th>4</th>\n",
       "      <td>5</td>\n",
       "      <td>Female</td>\n",
       "      <td>31</td>\n",
       "      <td>17</td>\n",
       "      <td>40</td>\n",
       "    </tr>\n",
       "  </tbody>\n",
       "</table>\n",
       "</div>"
      ],
      "text/plain": [
       "   CustomerID  Gender  Age  Income  Spending_Score\n",
       "0           1    Male   19      15              39\n",
       "1           2    Male   21      15              81\n",
       "2           3  Female   20      16               6\n",
       "3           4  Female   23      16              77\n",
       "4           5  Female   31      17              40"
      ]
     },
     "execution_count": 4,
     "metadata": {},
     "output_type": "execute_result"
    }
   ],
   "source": [
    "df.rename(columns={'Annual Income (k$)' : 'Income', 'Spending Score (1-100)' : 'Spending_Score'}, inplace = True)\n",
    "df.head()"
   ]
  },
  {
   "cell_type": "code",
   "execution_count": 5,
   "id": "0a3e8afc",
   "metadata": {
    "execution": {
     "iopub.execute_input": "2022-11-05T04:21:42.964281Z",
     "iopub.status.busy": "2022-11-05T04:21:42.963186Z",
     "iopub.status.idle": "2022-11-05T04:21:42.978085Z",
     "shell.execute_reply": "2022-11-05T04:21:42.976834Z"
    },
    "papermill": {
     "duration": 0.027584,
     "end_time": "2022-11-05T04:21:42.980502",
     "exception": false,
     "start_time": "2022-11-05T04:21:42.952918",
     "status": "completed"
    },
    "tags": []
   },
   "outputs": [
    {
     "data": {
      "text/html": [
       "<div>\n",
       "<style scoped>\n",
       "    .dataframe tbody tr th:only-of-type {\n",
       "        vertical-align: middle;\n",
       "    }\n",
       "\n",
       "    .dataframe tbody tr th {\n",
       "        vertical-align: top;\n",
       "    }\n",
       "\n",
       "    .dataframe thead th {\n",
       "        text-align: right;\n",
       "    }\n",
       "</style>\n",
       "<table border=\"1\" class=\"dataframe\">\n",
       "  <thead>\n",
       "    <tr style=\"text-align: right;\">\n",
       "      <th></th>\n",
       "      <th>Income</th>\n",
       "      <th>Spending_Score</th>\n",
       "    </tr>\n",
       "  </thead>\n",
       "  <tbody>\n",
       "    <tr>\n",
       "      <th>0</th>\n",
       "      <td>15</td>\n",
       "      <td>39</td>\n",
       "    </tr>\n",
       "    <tr>\n",
       "      <th>1</th>\n",
       "      <td>15</td>\n",
       "      <td>81</td>\n",
       "    </tr>\n",
       "    <tr>\n",
       "      <th>2</th>\n",
       "      <td>16</td>\n",
       "      <td>6</td>\n",
       "    </tr>\n",
       "    <tr>\n",
       "      <th>3</th>\n",
       "      <td>16</td>\n",
       "      <td>77</td>\n",
       "    </tr>\n",
       "    <tr>\n",
       "      <th>4</th>\n",
       "      <td>17</td>\n",
       "      <td>40</td>\n",
       "    </tr>\n",
       "  </tbody>\n",
       "</table>\n",
       "</div>"
      ],
      "text/plain": [
       "   Income  Spending_Score\n",
       "0      15              39\n",
       "1      15              81\n",
       "2      16               6\n",
       "3      16              77\n",
       "4      17              40"
      ]
     },
     "execution_count": 5,
     "metadata": {},
     "output_type": "execute_result"
    }
   ],
   "source": [
    "df_Short = df[['Income','Spending_Score']]\n",
    "df_Short.head()"
   ]
  },
  {
   "cell_type": "markdown",
   "id": "ecec8efa",
   "metadata": {
    "papermill": {
     "duration": 0.006449,
     "end_time": "2022-11-05T04:21:42.993785",
     "exception": false,
     "start_time": "2022-11-05T04:21:42.987336",
     "status": "completed"
    },
    "tags": []
   },
   "source": [
    "# Elbow Method to Indetify Clusters"
   ]
  },
  {
   "cell_type": "code",
   "execution_count": 6,
   "id": "1fa82f06",
   "metadata": {
    "execution": {
     "iopub.execute_input": "2022-11-05T04:21:43.009682Z",
     "iopub.status.busy": "2022-11-05T04:21:43.008620Z",
     "iopub.status.idle": "2022-11-05T04:21:43.013922Z",
     "shell.execute_reply": "2022-11-05T04:21:43.013063Z"
    },
    "papermill": {
     "duration": 0.015644,
     "end_time": "2022-11-05T04:21:43.016275",
     "exception": false,
     "start_time": "2022-11-05T04:21:43.000631",
     "status": "completed"
    },
    "tags": []
   },
   "outputs": [],
   "source": [
    "# Write a code to import K Mean Cluster \n"
   ]
  },
  {
   "cell_type": "markdown",
   "id": "00df9d50",
   "metadata": {
    "papermill": {
     "duration": 0.006499,
     "end_time": "2022-11-05T04:21:43.029493",
     "exception": false,
     "start_time": "2022-11-05T04:21:43.022994",
     "status": "completed"
    },
    "tags": []
   },
   "source": [
    "## Run Cluster Analysis 12 times\n",
    "\n",
    "- We run the Cluster Analysis using Cluster as 1 till 12. Also, we store the WSS Scores. The WSS score will be used to create the Elbow Plot\n",
    "- WSS = Within-Cluster-Sum of Squared"
   ]
  },
  {
   "cell_type": "code",
   "execution_count": 7,
   "id": "65e69773",
   "metadata": {
    "execution": {
     "iopub.execute_input": "2022-11-05T04:21:43.045276Z",
     "iopub.status.busy": "2022-11-05T04:21:43.044715Z",
     "iopub.status.idle": "2022-11-05T04:21:43.049168Z",
     "shell.execute_reply": "2022-11-05T04:21:43.047971Z"
    },
    "papermill": {
     "duration": 0.015377,
     "end_time": "2022-11-05T04:21:43.051721",
     "exception": false,
     "start_time": "2022-11-05T04:21:43.036344",
     "status": "completed"
    },
    "tags": []
   },
   "outputs": [],
   "source": [
    "# Write a Code to find WSS Score for clusters 1 to 12\n"
   ]
  },
  {
   "cell_type": "markdown",
   "id": "d10c4fd8",
   "metadata": {
    "papermill": {
     "duration": 0.006247,
     "end_time": "2022-11-05T04:21:43.064657",
     "exception": false,
     "start_time": "2022-11-05T04:21:43.058410",
     "status": "completed"
    },
    "tags": []
   },
   "source": [
    "## We Store the Number of clusters along with their WSS Scores in a DataFrame"
   ]
  },
  {
   "cell_type": "code",
   "execution_count": 8,
   "id": "9f7f43ad",
   "metadata": {
    "execution": {
     "iopub.execute_input": "2022-11-05T04:21:43.079689Z",
     "iopub.status.busy": "2022-11-05T04:21:43.079265Z",
     "iopub.status.idle": "2022-11-05T04:21:43.084692Z",
     "shell.execute_reply": "2022-11-05T04:21:43.083240Z"
    },
    "papermill": {
     "duration": 0.015797,
     "end_time": "2022-11-05T04:21:43.087156",
     "exception": false,
     "start_time": "2022-11-05T04:21:43.071359",
     "status": "completed"
    },
    "tags": []
   },
   "outputs": [],
   "source": [
    "# Write a code to combine the Cluster numbers with WSS Score\n",
    "#mycenters = \n",
    "#mycenters"
   ]
  },
  {
   "cell_type": "markdown",
   "id": "0d2da6b0",
   "metadata": {
    "papermill": {
     "duration": 0.006474,
     "end_time": "2022-11-05T04:21:43.100570",
     "exception": false,
     "start_time": "2022-11-05T04:21:43.094096",
     "status": "completed"
    },
    "tags": []
   },
   "source": [
    "# Plot Elbow Plot"
   ]
  },
  {
   "cell_type": "code",
   "execution_count": 9,
   "id": "e7ebcd1c",
   "metadata": {
    "execution": {
     "iopub.execute_input": "2022-11-05T04:21:43.121965Z",
     "iopub.status.busy": "2022-11-05T04:21:43.120272Z",
     "iopub.status.idle": "2022-11-05T04:21:43.127801Z",
     "shell.execute_reply": "2022-11-05T04:21:43.126080Z"
    },
    "papermill": {
     "duration": 0.02359,
     "end_time": "2022-11-05T04:21:43.131403",
     "exception": false,
     "start_time": "2022-11-05T04:21:43.107813",
     "status": "completed"
    },
    "tags": []
   },
   "outputs": [],
   "source": [
    "# Create a Scatter Plot - Elbow Plot\n",
    "#sns.scatterplot(x = 'Clusters', y = 'WSS', data = mycenters, marker=\"+\")\n",
    "# We get 5 Clusters"
   ]
  },
  {
   "cell_type": "markdown",
   "id": "7b985c8d",
   "metadata": {
    "papermill": {
     "duration": 0.007739,
     "end_time": "2022-11-05T04:21:43.148195",
     "exception": false,
     "start_time": "2022-11-05T04:21:43.140456",
     "status": "completed"
    },
    "tags": []
   },
   "source": [
    "## -- 5 Clusters Identified as per Elbow Method"
   ]
  },
  {
   "cell_type": "markdown",
   "id": "f79e4f5c",
   "metadata": {
    "papermill": {
     "duration": 0.011684,
     "end_time": "2022-11-05T04:21:43.168434",
     "exception": false,
     "start_time": "2022-11-05T04:21:43.156750",
     "status": "completed"
    },
    "tags": []
   },
   "source": [
    "# Silhouette Method to Indentify Clusters"
   ]
  },
  {
   "cell_type": "code",
   "execution_count": 10,
   "id": "0d917521",
   "metadata": {
    "execution": {
     "iopub.execute_input": "2022-11-05T04:21:43.192399Z",
     "iopub.status.busy": "2022-11-05T04:21:43.191703Z",
     "iopub.status.idle": "2022-11-05T04:21:43.661608Z",
     "shell.execute_reply": "2022-11-05T04:21:43.660384Z"
    },
    "papermill": {
     "duration": 0.485633,
     "end_time": "2022-11-05T04:21:43.664554",
     "exception": false,
     "start_time": "2022-11-05T04:21:43.178921",
     "status": "completed"
    },
    "tags": []
   },
   "outputs": [],
   "source": [
    "import sklearn.cluster as cluster # for training purposes only\n",
    "import sklearn.metrics as metrics"
   ]
  },
  {
   "cell_type": "code",
   "execution_count": 11,
   "id": "f50006aa",
   "metadata": {
    "execution": {
     "iopub.execute_input": "2022-11-05T04:21:43.681553Z",
     "iopub.status.busy": "2022-11-05T04:21:43.680183Z",
     "iopub.status.idle": "2022-11-05T04:21:45.044629Z",
     "shell.execute_reply": "2022-11-05T04:21:45.043571Z"
    },
    "papermill": {
     "duration": 1.376996,
     "end_time": "2022-11-05T04:21:45.049049",
     "exception": false,
     "start_time": "2022-11-05T04:21:43.672053",
     "status": "completed"
    },
    "tags": []
   },
   "outputs": [
    {
     "name": "stdout",
     "output_type": "stream",
     "text": [
      "Silhouette score for k(clusters) = 3 is 0.46761358158775423\n",
      "Silhouette score for k(clusters) = 4 is 0.4931963109249047\n",
      "Silhouette score for k(clusters) = 5 is 0.553931997444648\n",
      "Silhouette score for k(clusters) = 6 is 0.5379675585622219\n",
      "Silhouette score for k(clusters) = 7 is 0.5367379891273258\n",
      "Silhouette score for k(clusters) = 8 is 0.4592958445675391\n",
      "Silhouette score for k(clusters) = 9 is 0.45770857148861777\n",
      "Silhouette score for k(clusters) = 10 is 0.446735677440187\n",
      "Silhouette score for k(clusters) = 11 is 0.4472950813160941\n",
      "Silhouette score for k(clusters) = 12 is 0.4257901147260263\n"
     ]
    }
   ],
   "source": [
    "for i in range(3,13):\n",
    "    labels=cluster.KMeans(n_clusters=i,init=\"k-means++\",random_state=200).fit(df_Short).labels_\n",
    "    print (\"Silhouette score for k(clusters) = \"+str(i)+\" is \"\n",
    "           +str(metrics.silhouette_score(df_Short,labels,metric=\"euclidean\",sample_size=1000,random_state=200)))"
   ]
  },
  {
   "cell_type": "markdown",
   "id": "095e8f5d",
   "metadata": {
    "papermill": {
     "duration": 0.017781,
     "end_time": "2022-11-05T04:21:45.085046",
     "exception": false,
     "start_time": "2022-11-05T04:21:45.067265",
     "status": "completed"
    },
    "tags": []
   },
   "source": [
    "## -- Max Silhouette Score as k = 5, Hence 5 Clusters is the right option"
   ]
  },
  {
   "cell_type": "markdown",
   "id": "9fa21fa9",
   "metadata": {
    "papermill": {
     "duration": 0.017318,
     "end_time": "2022-11-05T04:21:45.120547",
     "exception": false,
     "start_time": "2022-11-05T04:21:45.103229",
     "status": "completed"
    },
    "tags": []
   },
   "source": [
    "# Perform K-Mean Clustering with 5 Clusters"
   ]
  },
  {
   "cell_type": "code",
   "execution_count": 12,
   "id": "d0163019",
   "metadata": {
    "execution": {
     "iopub.execute_input": "2022-11-05T04:21:45.157733Z",
     "iopub.status.busy": "2022-11-05T04:21:45.157324Z",
     "iopub.status.idle": "2022-11-05T04:21:45.197265Z",
     "shell.execute_reply": "2022-11-05T04:21:45.196080Z"
    },
    "papermill": {
     "duration": 0.061645,
     "end_time": "2022-11-05T04:21:45.200079",
     "exception": false,
     "start_time": "2022-11-05T04:21:45.138434",
     "status": "completed"
    },
    "tags": []
   },
   "outputs": [],
   "source": [
    "# We will use 2 Variables for this example\n",
    "kmeans = cluster.KMeans(n_clusters=5 ,init=\"k-means++\")\n",
    "kmeans = kmeans.fit(df[['Spending_Score','Income']])"
   ]
  },
  {
   "cell_type": "markdown",
   "id": "33a70ece",
   "metadata": {
    "papermill": {
     "duration": 0.007034,
     "end_time": "2022-11-05T04:21:45.215571",
     "exception": false,
     "start_time": "2022-11-05T04:21:45.208537",
     "status": "completed"
    },
    "tags": []
   },
   "source": [
    "# Plot Clusters on Chart"
   ]
  },
  {
   "cell_type": "code",
   "execution_count": 13,
   "id": "6e2c22b2",
   "metadata": {
    "execution": {
     "iopub.execute_input": "2022-11-05T04:21:45.232168Z",
     "iopub.status.busy": "2022-11-05T04:21:45.231752Z",
     "iopub.status.idle": "2022-11-05T04:21:45.239264Z",
     "shell.execute_reply": "2022-11-05T04:21:45.237913Z"
    },
    "papermill": {
     "duration": 0.018792,
     "end_time": "2022-11-05T04:21:45.241696",
     "exception": false,
     "start_time": "2022-11-05T04:21:45.222904",
     "status": "completed"
    },
    "tags": []
   },
   "outputs": [],
   "source": [
    "df['Clusters'] = kmeans.labels_\n"
   ]
  },
  {
   "cell_type": "code",
   "execution_count": 14,
   "id": "e2454cf6",
   "metadata": {
    "execution": {
     "iopub.execute_input": "2022-11-05T04:21:45.257837Z",
     "iopub.status.busy": "2022-11-05T04:21:45.257416Z",
     "iopub.status.idle": "2022-11-05T04:21:45.265298Z",
     "shell.execute_reply": "2022-11-05T04:21:45.264162Z"
    },
    "papermill": {
     "duration": 0.018775,
     "end_time": "2022-11-05T04:21:45.267688",
     "exception": false,
     "start_time": "2022-11-05T04:21:45.248913",
     "status": "completed"
    },
    "tags": []
   },
   "outputs": [
    {
     "data": {
      "text/plain": [
       "array([4, 2, 4, 2, 4, 2, 4, 2, 4, 2, 4, 2, 4, 2, 4, 2, 4, 2, 4, 2, 4, 2,\n",
       "       4, 2, 4, 2, 4, 2, 4, 2, 4, 2, 4, 2, 4, 2, 4, 2, 4, 2, 4, 2, 4, 0,\n",
       "       4, 2, 0, 0, 0, 0, 0, 0, 0, 0, 0, 0, 0, 0, 0, 0, 0, 0, 0, 0, 0, 0,\n",
       "       0, 0, 0, 0, 0, 0, 0, 0, 0, 0, 0, 0, 0, 0, 0, 0, 0, 0, 0, 0, 0, 0,\n",
       "       0, 0, 0, 0, 0, 0, 0, 0, 0, 0, 0, 0, 0, 0, 0, 0, 0, 0, 0, 0, 0, 0,\n",
       "       0, 0, 0, 0, 0, 0, 0, 0, 0, 0, 0, 0, 0, 1, 3, 1, 0, 1, 3, 1, 3, 1,\n",
       "       0, 1, 3, 1, 3, 1, 3, 1, 3, 1, 0, 1, 3, 1, 3, 1, 3, 1, 3, 1, 3, 1,\n",
       "       3, 1, 3, 1, 3, 1, 3, 1, 3, 1, 3, 1, 3, 1, 3, 1, 3, 1, 3, 1, 3, 1,\n",
       "       3, 1, 3, 1, 3, 1, 3, 1, 3, 1, 3, 1, 3, 1, 3, 1, 3, 1, 3, 1, 3, 1,\n",
       "       3, 1], dtype=int32)"
      ]
     },
     "execution_count": 14,
     "metadata": {},
     "output_type": "execute_result"
    }
   ],
   "source": [
    "kmeans.labels_"
   ]
  },
  {
   "cell_type": "code",
   "execution_count": 15,
   "id": "b67efff5",
   "metadata": {
    "execution": {
     "iopub.execute_input": "2022-11-05T04:21:45.285835Z",
     "iopub.status.busy": "2022-11-05T04:21:45.284730Z",
     "iopub.status.idle": "2022-11-05T04:21:45.754041Z",
     "shell.execute_reply": "2022-11-05T04:21:45.753112Z"
    },
    "papermill": {
     "duration": 0.481455,
     "end_time": "2022-11-05T04:21:45.756855",
     "exception": false,
     "start_time": "2022-11-05T04:21:45.275400",
     "status": "completed"
    },
    "tags": []
   },
   "outputs": [
    {
     "data": {
      "text/plain": [
       "<AxesSubplot:xlabel='Spending_Score', ylabel='Income'>"
      ]
     },
     "execution_count": 15,
     "metadata": {},
     "output_type": "execute_result"
    },
    {
     "data": {
      "image/png": "[encoded data removed]",
      "text/plain": [
       "<Figure size 432x288 with 1 Axes>"
      ]
     },
     "metadata": {
      "needs_background": "light"
     },
     "output_type": "display_data"
    }
   ],
   "source": [
    "sns.scatterplot(x=\"Spending_Score\", y=\"Income\",hue = 'Clusters',  data=df)"
   ]
  },
  {
   "cell_type": "markdown",
   "id": "d0051e46",
   "metadata": {
    "papermill": {
     "duration": 0.00756,
     "end_time": "2022-11-05T04:21:45.772614",
     "exception": false,
     "start_time": "2022-11-05T04:21:45.765054",
     "status": "completed"
    },
    "tags": []
   },
   "source": [
    "# END"
   ]
  }
 ],
 "metadata": {
  "kernelspec": {
   "display_name": "Python 3",
   "language": "python",
   "name": "python3"
  },
  "language_info": {
   "codemirror_mode": {
    "name": "ipython",
    "version": 3
   },
   "file_extension": ".py",
   "mimetype": "text/x-python",
   "name": "python",
   "nbconvert_exporter": "python",
   "pygments_lexer": "ipython3",
   "version": "3.7.12"
  },
  "papermill": {
   "default_parameters": {},
   "duration": 14.585444,
   "end_time": "2022-11-05T04:21:46.603934",
   "environment_variables": {},
   "exception": null,
   "input_path": "__notebook__.ipynb",
   "output_path": "__notebook__.ipynb",
   "parameters": {},
   "start_time": "2022-11-05T04:21:32.018490",
   "version": "2.3.4"
  }
 },
 "nbformat": 4,
 "nbformat_minor": 5
}
